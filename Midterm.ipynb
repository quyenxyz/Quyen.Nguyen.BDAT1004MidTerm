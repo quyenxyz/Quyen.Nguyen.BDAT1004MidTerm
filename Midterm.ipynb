{
 "cells": [
  {
   "cell_type": "markdown",
   "id": "0c40169b",
   "metadata": {},
   "source": [
    "# Question 21"
   ]
  },
  {
   "cell_type": "code",
   "execution_count": 6,
   "id": "0a9477af",
   "metadata": {},
   "outputs": [
    {
     "name": "stdout",
     "output_type": "stream",
     "text": [
      "Length: 5.0\n",
      "Slope: 0.75\n"
     ]
    }
   ],
   "source": [
    "class Point:\n",
    "    def __init__(self, x=0, y=0):\n",
    "        self.x = x\n",
    "        self.y = y\n",
    "\n",
    "class Segment:\n",
    "    def __init__(self, point1, point2):\n",
    "        self.point1 = point1\n",
    "        self.point2 = point2\n",
    "\n",
    "    def length(self):\n",
    "        return ((self.point2.x - self.point1.x)**2 + (self.point2.y - self.point1.y)**2)**0.5\n",
    "\n",
    "    def slope(self):\n",
    "        if self.point2.x - self.point1.x == 0:\n",
    "            return None  # Slope is unbounded\n",
    "        else:\n",
    "            return (self.point2.x - self.point1.x) / (self.point2.y - self.point1.y)\n",
    "\n",
    "\n",
    "p1 = Point(3, 4)\n",
    "p2 = Point()\n",
    "s = Segment(p1, p2)\n",
    "\n",
    "print(\"Length:\", s.length())\n",
    "print(\"Slope:\", s.slope())\n"
   ]
  },
  {
   "cell_type": "code",
   "execution_count": null,
   "id": "40807b11",
   "metadata": {},
   "outputs": [],
   "source": []
  }
 ],
 "metadata": {
  "kernelspec": {
   "display_name": "Python 3 (ipykernel)",
   "language": "python",
   "name": "python3"
  },
  "language_info": {
   "codemirror_mode": {
    "name": "ipython",
    "version": 3
   },
   "file_extension": ".py",
   "mimetype": "text/x-python",
   "name": "python",
   "nbconvert_exporter": "python",
   "pygments_lexer": "ipython3",
   "version": "3.11.5"
  }
 },
 "nbformat": 4,
 "nbformat_minor": 5
}
